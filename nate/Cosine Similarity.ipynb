{
 "cells": [
  {
   "cell_type": "code",
   "execution_count": 2,
   "metadata": {
    "collapsed": false
   },
   "outputs": [
    {
     "name": "stdout",
     "output_type": "stream",
     "text": [
      "[[0 1]\n",
      " [0 4]]\n",
      "[[0 2]\n",
      " [0 3]]\n"
     ]
    },
    {
     "data": {
      "image/png": "[encoded data removed]",
      "text/plain": [
       "<matplotlib.figure.Figure at 0x1c1c03b1240>"
      ]
     },
     "metadata": {},
     "output_type": "display_data"
    },
    {
     "data": {
      "text/plain": [
       "array([[ 0.94174191]])"
      ]
     },
     "execution_count": 2,
     "metadata": {},
     "output_type": "execute_result"
    }
   ],
   "source": [
    "from sklearn.metrics.pairwise import cosine_similarity\n",
    "import numpy as np\n",
    "import matplotlib.pyplot as plt\n",
    "\n",
    "x = [1,4]\n",
    "y = [2,3]\n",
    "origin = [0,0]\n",
    "\n",
    "origin_to_x = np.array([origin, x]).T\n",
    "origin_to_y = np.array([origin, y]).T\n",
    "\n",
    "print(origin_to_x)\n",
    "print(origin_to_y)\n",
    "\n",
    "x = np.array(x).reshape(1,-1)\n",
    "y = np.array(y).reshape(1,-1)\n",
    "\n",
    "# plt.plot(origin_to_x)\n",
    "# plt.plot(origin_to_y)\n",
    "\n",
    "plt.scatter(origin_to_x[0],origin_to_x[1])\n",
    "plt.scatter(origin_to_y[0],origin_to_y[1])\n",
    "plt.plot([0,1],[0,4])\n",
    "plt.plot([0,2],[0,3])\n",
    "plt.show()\n",
    "\n",
    "cosine_similarity(x,y)"
   ]
  },
  {
   "cell_type": "code",
   "execution_count": 5,
   "metadata": {
    "collapsed": false
   },
   "outputs": [],
   "source": [
    "from collections import Counter\n",
    "\n",
    "c = Counter()  \n",
    "\n",
    "def counter(word):\n",
    "    for i in word:\n",
    "        c.\n",
    "        "
   ]
  }
 ],
 "metadata": {
  "anaconda-cloud": {},
  "kernelspec": {
   "display_name": "Python [default]",
   "language": "python",
   "name": "python3"
  },
  "language_info": {
   "codemirror_mode": {
    "name": "ipython",
    "version": 3
   },
   "file_extension": ".py",
   "mimetype": "text/x-python",
   "name": "python",
   "nbconvert_exporter": "python",
   "pygments_lexer": "ipython3",
   "version": "3.5.2"
  }
 },
 "nbformat": 4,
 "nbformat_minor": 1
}
